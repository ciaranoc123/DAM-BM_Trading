{
 "cells": [
  {
   "cell_type": "markdown",
   "id": "a9d906be",
   "metadata": {},
   "source": [
    "Sample usage for generating Quantile Forecasts in DAM and BM.\n",
    "\n",
    "Models ordered as follows:\n",
    "\n",
    "Statistical Models:\n",
    "\n",
    "1.) LEAR \n",
    "\n",
    "Machine Learning Models:\n",
    "\n",
    "2.) RF | 3.) LGBM\n",
    "\n",
    "Deep Learning Models:\n",
    "\n",
    "4.) DNN"
   ]
  },
  {
   "cell_type": "markdown",
   "id": "9b2bd7d7",
   "metadata": {},
   "source": [
    " "
   ]
  },
  {
   "cell_type": "markdown",
   "id": "0d78ca13",
   "metadata": {},
   "source": [
    "LEAR Model DAM"
   ]
  },
  {
   "cell_type": "code",
   "execution_count": 2,
   "id": "258e1380",
   "metadata": {},
   "outputs": [
    {
     "name": "stdout",
     "output_type": "stream",
     "text": [
      "train_start_time: 2021-05-29 00:00:00, train_end_time: 2021-06-01 00:00:00, test_start_time: 2021-06-02 00:00:00, test_end_time: 2021-06-02 01:00:00\n"
     ]
    }
   ],
   "source": [
    "from LEAR_QR_DAM_BM import generate_train_and_test_dataframes_LEAR_BM, rolling_walk_forward_validation_LEAR_BM, fit_multitarget_model_LEAR_BM, load_and_preprocess_data_LEAR_BM, rolling_walk_forward_validation_LEAR_DAM, fit_multitarget_model_LEAR_DAM, generate_train_and_test_dataframes_LEAR_DAM, load_and_preprocess_data_LEAR_DAM \n",
    "from sklearn.multioutput import MultiOutputRegressor\n",
    "from sklearn.linear_model import QuantileRegressor\n",
    "from sklearn.linear_model import LassoLarsIC, Lasso\n",
    "from sklearn_quantile import RandomForestQuantileRegressor\n",
    "import lightgbm as lgb\n",
    "import warnings\n",
    "# Ignore all warnings\n",
    "warnings.filterwarnings(\"ignore\")\n",
    "\n",
    "# Load and preprocess the data using a function called load_and_preprocess_data_LEAR_DAM\n",
    "# dat: contains the preprocessed data\n",
    "# Y: contains the target variable\n",
    "# alpha: contains some parameter value obtained from the preprocessing function\n",
    "dat, Y, alpha = load_and_preprocess_data_LEAR_DAM(\"/home/ciaran/Documents/DAM_VAR_1-3.csv\")\n",
    "\n",
    "# Perform rolling walk-forward validation using a specified model and parameters\n",
    "# rolling_walk_forward_validation_LEAR_DAM: a function that carries out the validation process\n",
    "# model: MultiOutputRegressor(Lasso(max_iter=2500, alpha=alpha)) is the model used, it's a Lasso regression model wrapped in a MultiOutputRegressor\n",
    "# data: the preprocessed data\n",
    "# start_time: starting time for the validation period\n",
    "# end_time: ending time for the validation period\n",
    "# targets: columns of the data used as target variables\n",
    "# training_days: number of days used for training before each validation period\n",
    "# path: path to save the results of the validation process\n",
    "rolling_walk_forward_validation_LEAR_DAM(model=MultiOutputRegressor(Lasso(max_iter=2500, alpha=alpha)),\n",
    "                                data=dat, start_time='1/6/2021 00:00', end_time='2/6/2021  00:00',\n",
    "                                targets=dat.iloc[:, 0:24].columns.values.tolist(),training_days=-365, \n",
    "                                path=\"/home/ciaran/lasso_Q_DAM_test\")\n"
   ]
  },
  {
   "cell_type": "markdown",
   "id": "f0bcc16a",
   "metadata": {},
   "source": [
    "LEAR Model BM"
   ]
  },
  {
   "cell_type": "code",
   "execution_count": 3,
   "id": "f6c9efe4",
   "metadata": {},
   "outputs": [
    {
     "name": "stdout",
     "output_type": "stream",
     "text": [
      "train_start_time: 2020-05-29 00:00:00, train_end_time: 2020-06-01 00:00:00, test_start_time: 2020-06-01 08:00:00, test_end_time: 2020-06-01 08:30:00\n",
      "train_start_time: 2020-05-29 08:00:00, train_end_time: 2020-06-01 08:00:00, test_start_time: 2020-06-01 16:00:00, test_end_time: 2020-06-01 16:30:00\n",
      "train_start_time: 2020-05-29 16:00:00, train_end_time: 2020-06-01 16:00:00, test_start_time: 2020-06-02 00:00:00, test_end_time: 2020-06-02 00:30:00\n"
     ]
    }
   ],
   "source": [
    "# Example usage:\n",
    "file_path = \"/home/ciaran/Documents/BM_data.csv\"\n",
    "dat, alpha, Y = load_and_preprocess_data_LEAR_BM(file_path)\n",
    "\n",
    "rolling_walk_forward_validation_LEAR_BM(model=MultiOutputRegressor(Lasso(max_iter=2500, alpha=alpha)),\n",
    "                                data=dat, start_time='6/1/2020 00:00', end_time='6/2/2020  00:00',       \n",
    "                                targets=dat.iloc[:,0:16].columns.values.tolist(), training_days=-365,\n",
    "                                path=\"/home/ciaran/Lasso_test\")"
   ]
  },
  {
   "cell_type": "markdown",
   "id": "a3032f88",
   "metadata": {},
   "source": [
    "RF Model DAM"
   ]
  },
  {
   "cell_type": "code",
   "execution_count": 5,
   "id": "4f56e0dc",
   "metadata": {},
   "outputs": [
    {
     "name": "stdout",
     "output_type": "stream",
     "text": [
      "train_start_time: 2020-05-29 00:00:00, train_end_time: 2020-06-01 00:00:00, test_start_time: 2020-06-02 00:00:00, test_end_time: 2020-06-02 01:00:00\n"
     ]
    }
   ],
   "source": [
    "# Define the file path containing the data\n",
    "file_path = \"/home/ciaran/Documents/DAM_VAR_1-3.csv\"\n",
    "\n",
    "# Load data using a function called load_data_DAM\n",
    "# dat: contains the input data\n",
    "# Y: contains the target variable\n",
    "dat, Y = load_data_DAM(file_path)\n",
    "\n",
    "# Perform rolling walk-forward validation using a specified model and parameters\n",
    "# rolling_walk_forward_validation_RF_DAM: a function that carries out the validation process\n",
    "# model: MultiOutputRegressor(RandomForestQuantileRegressor(...)) is the model used, it's a Random Forest model wrapped in a MultiOutputRegressor\n",
    "# data: the input data\n",
    "# start_time: starting time for the validation period\n",
    "# end_time: ending time for the validation period\n",
    "# targets: columns of the data used as target variables\n",
    "# training_days: number of days used for training before each validation period\n",
    "# path: path to save the results of the validation process\n",
    "rolling_walk_forward_validation_RF_DAM(model=MultiOutputRegressor(RandomForestQuantileRegressor(q=[0.10, 0.30, 0.50, 0.70, 0.90], max_depth=70 , max_features=150 , n_estimators=300 )),\n",
    "                                data=dat, start_time='1/6/2020 00:00', end_time='2/6/2020  00:00',\n",
    "                                targets=dat.iloc[:, 0:24].columns.values.tolist(), training_days=-365, \n",
    "                                path=\"/home/ciaran/Documents/rf_Q_DAM_test\")\n"
   ]
  },
  {
   "cell_type": "markdown",
   "id": "fa9a2613",
   "metadata": {},
   "source": [
    "RF Model BM"
   ]
  },
  {
   "cell_type": "code",
   "execution_count": 6,
   "id": "2bef4390",
   "metadata": {},
   "outputs": [
    {
     "name": "stdout",
     "output_type": "stream",
     "text": [
      "train_start_time: 2020-05-29 00:00:00, train_end_time: 2020-06-01 00:00:00, test_start_time: 2020-06-01 08:00:00, test_end_time: 2020-06-01 08:30:00\n",
      "train_start_time: 2020-05-29 08:00:00, train_end_time: 2020-06-01 08:00:00, test_start_time: 2020-06-01 16:00:00, test_end_time: 2020-06-01 16:30:00\n",
      "train_start_time: 2020-05-29 16:00:00, train_end_time: 2020-06-01 16:00:00, test_start_time: 2020-06-02 00:00:00, test_end_time: 2020-06-02 00:30:00\n"
     ]
    }
   ],
   "source": [
    "# Example usage:\n",
    "file_path = \"/home/ciaran/Documents/BM_data.csv\"\n",
    "dat, Y = load_data_BM(file_path)\n",
    "\n",
    "rolling_walk_forward_validation_RF_BM(model = MultiOutputRegressor(RandomForestQuantileRegressor(q=[0.10, 0.30, 0.50, 0.70, 0.90], max_depth=2 , min_samples_leaf=2 , n_estimators=100 , min_samples_split=2 )),\n",
    "                                data=dat, start_time='6/1/2020 00:00',end_time='6/2/2020  00:00',\n",
    "                                targets=dat.iloc[:,0:16].columns.values.tolist(),training_days=-365, path=\"/home/ciaran/rf_Q_test\")"
   ]
  },
  {
   "cell_type": "markdown",
   "id": "e1537253",
   "metadata": {},
   "source": [
    "LGBM Model DAM"
   ]
  },
  {
   "cell_type": "code",
   "execution_count": 8,
   "id": "39799b43",
   "metadata": {},
   "outputs": [
    {
     "name": "stdout",
     "output_type": "stream",
     "text": [
      "train_start_time: 2020-05-29 00:00:00, train_end_time: 2020-06-01 00:00:00, test_start_time: 2020-06-02 00:00:00, test_end_time: 2020-06-02 01:00:00\n"
     ]
    }
   ],
   "source": [
    "from RF_LGBM_QR_DAM_BM  import generate_train_and_test_dataframes_LGBM_BM, fit_multitarget_model_LGBM_BM, rolling_walk_forward_validation_LGBM_BM, generate_train_and_test_dataframes_LGBM_DAM, fit_multitarget_model_LGBM_DAM, rolling_walk_forward_validation_LGBM_DAM\n",
    "\n",
    "# Example usage:\n",
    "# Define the file path containing the data\n",
    "file_path = \"/home/ciaran/Documents/DAM_VAR_1-3.csv\"\n",
    "\n",
    "# Load data using a function called load_data_DAM\n",
    "# dat: contains the input data\n",
    "# Y: contains the target variable\n",
    "dat, Y = load_data_DAM(file_path)\n",
    "\n",
    "# Perform rolling walk-forward validation using a specified model and parameters\n",
    "# rolling_walk_forward_validation_LGBM_DAM: a function that carries out the validation process\n",
    "# model_1 to model_5: MultiOutputRegressor wrapped LGBMRegressor models for different quantiles (0.1, 0.3, 0.5, 0.7, 0.9)\n",
    "# data: the input data\n",
    "# start_time: starting time for the validation period\n",
    "# end_time: ending time for the validation period\n",
    "# targets: columns of the target variable\n",
    "# training_days: number of days used for training before each validation period\n",
    "# path: path to save the results of the validation process\n",
    "rolling_walk_forward_validation_LGBM_DAM(\n",
    "    model_1=MultiOutputRegressor(lgb.LGBMRegressor(objective='quantile', alpha=0.1, learning_rate=0.05, num_leaves=40, max_depth=10, n_estimators=1000, verbose=-1)),\n",
    "    model_2=MultiOutputRegressor(lgb.LGBMRegressor(objective='quantile', alpha=0.3, learning_rate=0.05, num_leaves=40, max_depth=10, n_estimators=1000, verbose=-1)),\n",
    "    model_3=MultiOutputRegressor(lgb.LGBMRegressor(objective='quantile', alpha=0.5, learning_rate=0.05, num_leaves=40, max_depth=10, n_estimators=1000, verbose=-1)),\n",
    "    model_4=MultiOutputRegressor(lgb.LGBMRegressor(objective='quantile', alpha=0.7, learning_rate=0.05, num_leaves=40, max_depth=10, n_estimators=1000, verbose=-1)),\n",
    "    model_5=MultiOutputRegressor(lgb.LGBMRegressor(objective='quantile', alpha=0.9, learning_rate=0.05, num_leaves=40, max_depth=10, n_estimators=1000, verbose=-1)),\n",
    "    data=dat, start_time='1/6/2020 00:00', end_time='2/6/2020  00:00',\n",
    "    targets=Y.columns.values.tolist(), training_days=-365, \n",
    "    path=\"/home/ciaran/Documents/lgbm_Q_DAM_test\")\n"
   ]
  },
  {
   "cell_type": "markdown",
   "id": "a4124691",
   "metadata": {},
   "source": [
    "LGBM Model BM"
   ]
  },
  {
   "cell_type": "code",
   "execution_count": 9,
   "id": "3344b451",
   "metadata": {},
   "outputs": [
    {
     "name": "stdout",
     "output_type": "stream",
     "text": [
      "train_start_time: 2020-05-29 00:00:00, train_end_time: 2020-06-01 00:00:00, test_start_time: 2020-06-01 08:00:00, test_end_time: 2020-06-01 08:30:00\n",
      "train_start_time: 2020-05-29 08:00:00, train_end_time: 2020-06-01 08:00:00, test_start_time: 2020-06-01 16:00:00, test_end_time: 2020-06-01 16:30:00\n",
      "train_start_time: 2020-05-29 16:00:00, train_end_time: 2020-06-01 16:00:00, test_start_time: 2020-06-02 00:00:00, test_end_time: 2020-06-02 00:30:00\n"
     ]
    }
   ],
   "source": [
    "# Example usage:\n",
    "file_path = \"/home/ciaran/Documents/BM_data.csv\"\n",
    "dat, Y = load_data_BM(file_path)\n",
    "\n",
    "rolling_walk_forward_validation_LGBM_BM(model_1=MultiOutputRegressor(lgb.LGBMRegressor(objective = 'quantile', alpha=0.1, learning_rate = 0.05, num_leaves=10,  max_depth = 4, n_estimators =  100, verbose = -1)),\n",
    "                                model_2=MultiOutputRegressor(lgb.LGBMRegressor(objective = 'quantile', alpha=0.3, learning_rate = 0.05, num_leaves=10,  max_depth = 4, n_estimators =  100, verbose = -1)),\n",
    "                                model_3=MultiOutputRegressor(lgb.LGBMRegressor(objective = 'quantile', alpha=0.5, learning_rate = 0.05, num_leaves=10,  max_depth = 4, n_estimators =  100, verbose = -1)),\n",
    "                                model_4=MultiOutputRegressor(lgb.LGBMRegressor(objective = 'quantile', alpha=0.7, learning_rate = 0.05, num_leaves=10,  max_depth = 4, n_estimators =  100, verbose = -1)),\n",
    "                                model_5=MultiOutputRegressor(lgb.LGBMRegressor(objective = 'quantile', alpha=0.9, learning_rate = 0.05, num_leaves=10,  max_depth = 4, n_estimators =  100, verbose = -1)),\n",
    "                                data=dat, start_time='6/1/2020 00:00',end_time='6/2/2020  00:00',\n",
    "                                targets=dat.iloc[:,0:16].columns.values.tolist(),training_days=-365, path=\"/home/ciaran/Documents/lgbm_Q_test\")"
   ]
  },
  {
   "cell_type": "markdown",
   "id": "68ea1a67",
   "metadata": {},
   "source": [
    "DNN Model DAM"
   ]
  },
  {
   "cell_type": "code",
   "execution_count": 14,
   "id": "f311f613",
   "metadata": {},
   "outputs": [
    {
     "name": "stdout",
     "output_type": "stream",
     "text": [
      "train_start_time: 2020-05-29 00:00:00, train_end_time: 2020-06-01 00:00:00, test_start_time: 2020-06-01 00:00:00, test_end_time: 2020-06-01 01:00:00\n"
     ]
    }
   ],
   "source": [
    "from DNN_QR_DAM_BM import rolling_walk_forward_validation_DNN_BM, fit_multitarget_model_DNN_BM, generate_train_and_test_dataframes_DNN_BM, mmo_BM, mmo,rolling_walk_forward_validation_DNN_DAM, fit_multitarget_model_DNN_DAM,generate_train_and_test_dataframes_DNN_DAM\n",
    "# Example usage:\n",
    "# Define the file path containing the data\n",
    "file_path = \"/home/ciaran/Documents/DAM_VAR_1-3.csv\"\n",
    "\n",
    "# Load data using a function called load_data_DAM\n",
    "# dat: contains the input data\n",
    "# Y: contains the target variable\n",
    "dat, Y = load_data_DAM(file_path)\n",
    "\n",
    "# Perform rolling walk-forward validation using a specified deep learning model and parameters\n",
    "# rolling_walk_forward_validation_DNN_DAM: a function that carries out the validation process\n",
    "# model: mmo, a deep learning model\n",
    "# data: the input data\n",
    "# start_time: starting time for the validation period\n",
    "# end_time: ending time for the validation period\n",
    "# targets: columns of the data used as target variables\n",
    "# training_days: number of days used for training before each validation period\n",
    "# path: path to save the results of the validation process\n",
    "rolling_walk_forward_validation_DNN_DAM(model=mmo, data=dat, start_time='1/6/2020 00:00', end_time='2/6/2020  00:00',\n",
    "                                targets=dat.iloc[:, 0:24].columns.values.tolist(), training_days=-365,\n",
    "                                path=\"/home/ciaran/SH_Q_B_DAM_test\")"
   ]
  },
  {
   "cell_type": "markdown",
   "id": "fe7fb9e6",
   "metadata": {},
   "source": [
    "DNN Model BM"
   ]
  },
  {
   "cell_type": "code",
   "execution_count": 18,
   "id": "f6eaa686",
   "metadata": {
    "scrolled": true
   },
   "outputs": [
    {
     "name": "stdout",
     "output_type": "stream",
     "text": [
      "train_start_time: 2020-05-29 00:00:00, train_end_time: 2020-06-01 00:00:00, test_start_time: 2020-06-01 08:00:00, test_end_time: 2020-06-01 08:30:00\n",
      "1/1 - 0s - 105ms/epoch - 105ms/step\n",
      "train_start_time: 2020-05-29 08:00:00, train_end_time: 2020-06-01 08:00:00, test_start_time: 2020-06-01 16:00:00, test_end_time: 2020-06-01 16:30:00\n",
      "1/1 - 0s - 116ms/epoch - 116ms/step\n",
      "train_start_time: 2020-05-29 16:00:00, train_end_time: 2020-06-01 16:00:00, test_start_time: 2020-06-02 00:00:00, test_end_time: 2020-06-02 00:30:00\n",
      "1/1 - 0s - 105ms/epoch - 105ms/step\n"
     ]
    }
   ],
   "source": [
    "# Example usage:\n",
    "file_path = \"/home/ciaran/Documents/BM_data.csv\"\n",
    "dat, Y = load_data_BM(file_path)\n",
    "\n",
    "# Call the function or code block that produces the warning\n",
    "rolling_walk_forward_validation_DNN_BM(model=mmo_BM, data=dat, start_time='6/1/2020 00:00', end_time='6/2/2020 00:00',       \n",
    "                                targets=Y.columns.values.tolist(), training_days=-365,\n",
    "                                path=\"/home/ciaran/SH_Q_B_test\")"
   ]
  },
  {
   "cell_type": "code",
   "execution_count": null,
   "id": "a3963733",
   "metadata": {},
   "outputs": [],
   "source": []
  }
 ],
 "metadata": {
  "kernelspec": {
   "display_name": "Python 3 (ipykernel)",
   "language": "python",
   "name": "python3"
  },
  "language_info": {
   "codemirror_mode": {
    "name": "ipython",
    "version": 3
   },
   "file_extension": ".py",
   "mimetype": "text/x-python",
   "name": "python",
   "nbconvert_exporter": "python",
   "pygments_lexer": "ipython3",
   "version": "3.9.12"
  }
 },
 "nbformat": 4,
 "nbformat_minor": 5
}
